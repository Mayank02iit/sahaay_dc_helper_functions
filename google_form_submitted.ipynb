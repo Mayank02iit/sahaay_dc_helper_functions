{
  "nbformat": 4,
  "nbformat_minor": 0,
  "metadata": {
    "colab": {
      "provenance": []
    },
    "kernelspec": {
      "name": "python3",
      "display_name": "Python 3"
    },
    "language_info": {
      "name": "python"
    }
  },
  "cells": [
    {
      "cell_type": "code",
      "execution_count": 74,
      "metadata": {
        "id": "NJhAJOYhnkeR"
      },
      "outputs": [],
      "source": [
        "import pandas as pd\n",
        "import numpy as np\n",
        "import matplotlib.pyplot as plt\n",
        "import seaborn as sns\n",
        "import warnings\n",
        "warnings.filterwarnings('ignore')"
      ]
    },
    {
      "cell_type": "code",
      "source": [
        "data = pd.read_csv('data.csv')\n",
        "responses = pd.read_csv('responses.csv')"
      ],
      "metadata": {
        "id": "3rJsaXhgoJ_Q"
      },
      "execution_count": 75,
      "outputs": []
    },
    {
      "cell_type": "code",
      "source": [
        "names_keys = data['Roll number'].dropna().values\n",
        "responses = responses.iloc[::,2].dropna().values"
      ],
      "metadata": {
        "id": "iiGE35KSoxRG"
      },
      "execution_count": 76,
      "outputs": []
    },
    {
      "cell_type": "code",
      "source": [
        "responses = [x.upper() for x in responses]\n",
        "responses = [x.replace(' ','') for x in responses]\n",
        "responses = [x.replace('Z','') for x in responses]"
      ],
      "metadata": {
        "id": "xvy1UAjkuWnJ"
      },
      "execution_count": 77,
      "outputs": []
    },
    {
      "cell_type": "code",
      "source": [
        "names_value = ['Unsubmitted']*len(names_keys)"
      ],
      "metadata": {
        "id": "7OfvgSR5pOf2"
      },
      "execution_count": 79,
      "outputs": []
    },
    {
      "cell_type": "code",
      "source": [
        "response_sheet = dict(zip(names_keys, names_value))"
      ],
      "metadata": {
        "id": "mwPrjKqPrG3Z"
      },
      "execution_count": 80,
      "outputs": []
    },
    {
      "cell_type": "code",
      "source": [
        "for item in response_sheet:\n",
        "  if item in responses:\n",
        "    response_sheet[item] = 'Submitted'"
      ],
      "metadata": {
        "id": "-5iXaBrzsMaC"
      },
      "execution_count": 81,
      "outputs": []
    },
    {
      "cell_type": "code",
      "source": [
        "res = sum(x=='Submitted' for x in response_sheet.values())"
      ],
      "metadata": {
        "id": "JxbCTqwBsUXI"
      },
      "execution_count": 82,
      "outputs": []
    },
    {
      "cell_type": "code",
      "source": [
        "response_sheet = pd.DataFrame(response_sheet.items(), columns=['Roll number', 'Status'])"
      ],
      "metadata": {
        "id": "rzYDxchNtroH"
      },
      "execution_count": 87,
      "outputs": []
    },
    {
      "cell_type": "code",
      "source": [
        "response_sheet = response_sheet.to_csv('response_sheet.csv')"
      ],
      "metadata": {
        "id": "x2GoBL2tvtWo"
      },
      "execution_count": 89,
      "outputs": []
    }
  ]
}